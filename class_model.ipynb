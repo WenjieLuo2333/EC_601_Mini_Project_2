{
 "cells": [
  {
   "cell_type": "code",
   "execution_count": 2,
   "metadata": {},
   "outputs": [
    {
     "name": "stderr",
     "output_type": "stream",
     "text": [
      "Using TensorFlow backend.\n"
     ]
    },
    {
     "name": "stdout",
     "output_type": "stream",
     "text": [
      "Done!\n"
     ]
    }
   ],
   "source": [
    "from __future__ import print_function\n",
    "from keras.datasets import cifar10\n",
    "from keras.preprocessing.image import ImageDataGenerator\n",
    "from keras.utils import np_utils\n",
    "from keras.callbacks import ReduceLROnPlateau, CSVLogger, EarlyStopping,ModelCheckpoint,ReduceLROnPlateau\n",
    "import pandas as pd\n",
    "import numpy as np\n",
    "import resnet\n",
    "import os\n",
    "from tqdm import tqdm_notebook\n",
    "from keras.preprocessing.image import load_img\n",
    "from keras.models import load_model\n",
    "print(\"Done!\")"
   ]
  },
  {
   "cell_type": "code",
   "execution_count": 2,
   "metadata": {
    "collapsed": true
   },
   "outputs": [],
   "source": [
    "train_df=pd.read_csv(os.getcwd()+'/train.csv')\n",
    "test_df=pd.read_csv(os.getcwd()+'/val.csv')"
   ]
  },
  {
   "cell_type": "code",
   "execution_count": 3,
   "metadata": {},
   "outputs": [
    {
     "data": {
      "application/vnd.jupyter.widget-view+json": {
       "model_id": "41afd5ae335d44cbad0222dafa32f98a",
       "version_major": 2,
       "version_minor": 0
      },
      "text/plain": [
       "A Jupyter Widget"
      ]
     },
     "metadata": {},
     "output_type": "display_data"
    },
    {
     "name": "stdout",
     "output_type": "stream",
     "text": [
      "\n"
     ]
    }
   ],
   "source": [
    "train_df[\"data\"] = [np.array(load_img(os.getcwd()+\"/train/{}\".format(idx), target_size=(122,122))) / 255 for idx in tqdm_notebook(train_df['images'])]"
   ]
  },
  {
   "cell_type": "code",
   "execution_count": 4,
   "metadata": {},
   "outputs": [
    {
     "data": {
      "application/vnd.jupyter.widget-view+json": {
       "model_id": "eeb5645b46c94eea8dd40c713b07efd4",
       "version_major": 2,
       "version_minor": 0
      },
      "text/plain": [
       "A Jupyter Widget"
      ]
     },
     "metadata": {},
     "output_type": "display_data"
    },
    {
     "name": "stdout",
     "output_type": "stream",
     "text": [
      "\n"
     ]
    }
   ],
   "source": [
    "test_df[\"data\"] = [np.array(load_img(os.getcwd()+\"/train/{}\".format(idx), target_size=(122,122))) / 255 for idx in tqdm_notebook(test_df['images'])]"
   ]
  },
  {
   "cell_type": "code",
   "execution_count": 24,
   "metadata": {},
   "outputs": [],
   "source": [
    "lr_reducer = ReduceLROnPlateau(factor=np.sqrt(0.1), cooldown=0, patience=5, min_lr=0.5e-6)\n",
    "early_stopper = EarlyStopping(min_delta=0.001, patience=10)\n",
    "\n",
    "batch_size = 32\n",
    "nb_classes = 2\n",
    "nb_epoch = 200\n",
    "data_augmentation = False\n",
    "csv_logger = CSVLogger('resnet18_cat_dog.csv')\n",
    "# input image dimensions\n",
    "img_rows, img_cols = 122, 122\n",
    "# The CIFAR10 images are RGB.\n",
    "img_channels = 3"
   ]
  },
  {
   "cell_type": "code",
   "execution_count": 9,
   "metadata": {},
   "outputs": [],
   "source": [
    "y_train=np_utils.to_categorical(train_df['label'], nb_classes)"
   ]
  },
  {
   "cell_type": "code",
   "execution_count": 11,
   "metadata": {},
   "outputs": [],
   "source": [
    "y_test=np_utils.to_categorical(test_df['label'], nb_classes)"
   ]
  },
  {
   "cell_type": "code",
   "execution_count": 15,
   "metadata": {},
   "outputs": [],
   "source": [
    "X_train = np.array(train_df['data'].tolist())\n",
    "X_test = np.array(test_df['data'].tolist())"
   ]
  },
  {
   "cell_type": "code",
   "execution_count": 22,
   "metadata": {},
   "outputs": [],
   "source": [
    "model = resnet.ResnetBuilder.build_resnet_34((img_channels, img_rows, img_cols), nb_classes)"
   ]
  },
  {
   "cell_type": "code",
   "execution_count": 23,
   "metadata": {
    "collapsed": true
   },
   "outputs": [],
   "source": [
    "model.compile(loss='categorical_crossentropy',\n",
    "              optimizer='adam',\n",
    "              metrics=['accuracy'])"
   ]
  },
  {
   "cell_type": "code",
   "execution_count": 30,
   "metadata": {},
   "outputs": [
    {
     "name": "stdout",
     "output_type": "stream",
     "text": [
      "Train on 8000 samples, validate on 2000 samples\n",
      "Epoch 1/200\n",
      "8000/8000 [==============================] - 28s 4ms/step - loss: 0.5107 - acc: 0.8356 - val_loss: 1.3173 - val_acc: 0.5510\n",
      "\n",
      "Epoch 00001: val_loss improved from inf to 1.31728, saving model to ./resnet_cat_dog.model\n",
      "Epoch 2/200\n",
      "8000/8000 [==============================] - 28s 4ms/step - loss: 0.4885 - acc: 0.8512 - val_loss: 0.7159 - val_acc: 0.7435\n",
      "\n",
      "Epoch 00002: val_loss improved from 1.31728 to 0.71587, saving model to ./resnet_cat_dog.model\n",
      "Epoch 3/200\n",
      "8000/8000 [==============================] - 28s 4ms/step - loss: 0.4399 - acc: 0.8649 - val_loss: 0.8397 - val_acc: 0.6305\n",
      "\n",
      "Epoch 00003: val_loss did not improve from 0.71587\n",
      "Epoch 4/200\n",
      "8000/8000 [==============================] - 28s 4ms/step - loss: 0.4170 - acc: 0.8739 - val_loss: 5.1765 - val_acc: 0.5165\n",
      "\n",
      "Epoch 00004: val_loss did not improve from 0.71587\n",
      "Epoch 5/200\n",
      "8000/8000 [==============================] - 28s 4ms/step - loss: 0.3847 - acc: 0.8894 - val_loss: 0.6096 - val_acc: 0.7735\n",
      "\n",
      "Epoch 00005: val_loss improved from 0.71587 to 0.60960, saving model to ./resnet_cat_dog.model\n",
      "Epoch 6/200\n",
      "8000/8000 [==============================] - 28s 4ms/step - loss: 0.3674 - acc: 0.8961 - val_loss: 0.5548 - val_acc: 0.8140\n",
      "\n",
      "Epoch 00006: val_loss improved from 0.60960 to 0.55480, saving model to ./resnet_cat_dog.model\n",
      "Epoch 7/200\n",
      "8000/8000 [==============================] - 29s 4ms/step - loss: 0.3475 - acc: 0.9040 - val_loss: 0.5184 - val_acc: 0.8420\n",
      "\n",
      "Epoch 00007: val_loss improved from 0.55480 to 0.51844, saving model to ./resnet_cat_dog.model\n",
      "Epoch 8/200\n",
      "8000/8000 [==============================] - 29s 4ms/step - loss: 0.3296 - acc: 0.9139 - val_loss: 0.4481 - val_acc: 0.8665\n",
      "\n",
      "Epoch 00008: val_loss improved from 0.51844 to 0.44812, saving model to ./resnet_cat_dog.model\n",
      "Epoch 9/200\n",
      "8000/8000 [==============================] - 29s 4ms/step - loss: 0.3137 - acc: 0.9203 - val_loss: 0.4979 - val_acc: 0.8350\n",
      "\n",
      "Epoch 00009: val_loss did not improve from 0.44812\n",
      "Epoch 10/200\n",
      "8000/8000 [==============================] - 29s 4ms/step - loss: 0.3073 - acc: 0.9226 - val_loss: 0.4238 - val_acc: 0.8620\n",
      "\n",
      "Epoch 00010: val_loss improved from 0.44812 to 0.42380, saving model to ./resnet_cat_dog.model\n",
      "Epoch 11/200\n",
      "8000/8000 [==============================] - 29s 4ms/step - loss: 0.2954 - acc: 0.9244 - val_loss: 1.5265 - val_acc: 0.6760\n",
      "\n",
      "Epoch 00011: val_loss did not improve from 0.42380\n",
      "Epoch 12/200\n",
      "8000/8000 [==============================] - 29s 4ms/step - loss: 0.2835 - acc: 0.9336 - val_loss: 0.4995 - val_acc: 0.8430\n",
      "\n",
      "Epoch 00012: val_loss did not improve from 0.42380\n",
      "Epoch 13/200\n",
      "8000/8000 [==============================] - 28s 3ms/step - loss: 0.2650 - acc: 0.9396 - val_loss: 0.4726 - val_acc: 0.8635\n",
      "\n",
      "Epoch 00013: val_loss did not improve from 0.42380\n",
      "Epoch 14/200\n",
      "8000/8000 [==============================] - 29s 4ms/step - loss: 0.2609 - acc: 0.9424 - val_loss: 0.7182 - val_acc: 0.7795\n",
      "\n",
      "Epoch 00014: val_loss did not improve from 0.42380\n",
      "Epoch 15/200\n",
      "8000/8000 [==============================] - 29s 4ms/step - loss: 0.2466 - acc: 0.9467 - val_loss: 0.4565 - val_acc: 0.8510\n",
      "\n",
      "Epoch 00015: val_loss did not improve from 0.42380\n",
      "Epoch 16/200\n",
      "8000/8000 [==============================] - 29s 4ms/step - loss: 0.1735 - acc: 0.9768 - val_loss: 0.4307 - val_acc: 0.8720\n",
      "\n",
      "Epoch 00016: val_loss did not improve from 0.42380\n",
      "Epoch 17/200\n",
      "8000/8000 [==============================] - 29s 4ms/step - loss: 0.1439 - acc: 0.9861 - val_loss: 0.4596 - val_acc: 0.8770\n",
      "\n",
      "Epoch 00017: val_loss did not improve from 0.42380\n",
      "Epoch 18/200\n",
      "8000/8000 [==============================] - 29s 4ms/step - loss: 0.1353 - acc: 0.9882 - val_loss: 0.4509 - val_acc: 0.8820\n",
      "\n",
      "Epoch 00018: val_loss did not improve from 0.42380\n",
      "Epoch 19/200\n",
      "8000/8000 [==============================] - 29s 4ms/step - loss: 0.1395 - acc: 0.9860 - val_loss: 0.4383 - val_acc: 0.8950\n",
      "\n",
      "Epoch 00019: val_loss did not improve from 0.42380\n",
      "Epoch 20/200\n",
      "8000/8000 [==============================] - 29s 4ms/step - loss: 0.1231 - acc: 0.9911 - val_loss: 0.7389 - val_acc: 0.8505\n",
      "\n",
      "Epoch 00020: val_loss did not improve from 0.42380\n"
     ]
    },
    {
     "data": {
      "text/plain": [
       "<keras.callbacks.History at 0x7f5c4d713908>"
      ]
     },
     "execution_count": 30,
     "metadata": {},
     "output_type": "execute_result"
    }
   ],
   "source": [
    "model_checkpoint = ModelCheckpoint(\"./resnet_cat_dog.model\", save_best_only=True, verbose=1)\n",
    "model.fit(X_train, y_train,\n",
    "              batch_size=batch_size,\n",
    "              epochs=nb_epoch,\n",
    "              validation_data=(X_test, y_test),\n",
    "              shuffle=True,\n",
    "              callbacks=[lr_reducer, early_stopper, csv_logger,model_checkpoint])\n"
   ]
  },
  {
   "cell_type": "code",
   "execution_count": 9,
   "metadata": {},
   "outputs": [],
   "source": [
    "model=load_model(\"./resnet_cat_dog.model\")"
   ]
  },
  {
   "cell_type": "code",
   "execution_count": 4,
   "metadata": {},
   "outputs": [],
   "source": [
    "test_y=pd.read_csv(os.getcwd()+'/test.csv')\n",
    "test=pd.DataFrame()\n",
    "test['label']=test_y['label']\n",
    "test['images']=test_y['images']\n",
    "\n",
    "\n",
    "        "
   ]
  },
  {
   "cell_type": "code",
   "execution_count": 5,
   "metadata": {},
   "outputs": [
    {
     "name": "stdout",
     "output_type": "stream",
     "text": [
      "8000\n"
     ]
    }
   ],
   "source": [
    "print(len(test['images']))"
   ]
  },
  {
   "cell_type": "code",
   "execution_count": 6,
   "metadata": {},
   "outputs": [
    {
     "data": {
      "application/vnd.jupyter.widget-view+json": {
       "model_id": "2782d0b962414145b771f84fcd81c53e",
       "version_major": 2,
       "version_minor": 0
      },
      "text/plain": [
       "A Jupyter Widget"
      ]
     },
     "metadata": {},
     "output_type": "display_data"
    },
    {
     "name": "stdout",
     "output_type": "stream",
     "text": [
      "\n"
     ]
    }
   ],
   "source": [
    "test[\"data\"] = [np.array(load_img(os.getcwd()+\"/train/{}\".format(idx), target_size=(122,122))) / 255 for idx in tqdm_notebook(test['images'])]"
   ]
  },
  {
   "cell_type": "code",
   "execution_count": 7,
   "metadata": {},
   "outputs": [
    {
     "data": {
      "text/plain": [
       "(8000, 122, 122, 3)"
      ]
     },
     "execution_count": 7,
     "metadata": {},
     "output_type": "execute_result"
    }
   ],
   "source": [
    "test_in=np.array(test['data'].tolist())\n",
    "test_in.shape"
   ]
  },
  {
   "cell_type": "code",
   "execution_count": 10,
   "metadata": {},
   "outputs": [],
   "source": [
    "\n",
    "pre=model.predict(test_in)"
   ]
  },
  {
   "cell_type": "code",
   "execution_count": 75,
   "metadata": {},
   "outputs": [
    {
     "data": {
      "text/plain": [
       "(5000, 2)"
      ]
     },
     "execution_count": 75,
     "metadata": {},
     "output_type": "execute_result"
    }
   ],
   "source": [
    "pre.shape"
   ]
  },
  {
   "cell_type": "code",
   "execution_count": 72,
   "metadata": {},
   "outputs": [],
   "source": [
    "for i in range(pre.shape[0]):\n",
    "    if pre[i][0] < pre[i][1]:\n",
    "        pre[i][0]=0\n",
    "        pre[i][1]=1\n",
    "    else:\n",
    "        pre[i][1]=0\n",
    "        pre[i][0]=1        "
   ]
  },
  {
   "cell_type": "code",
   "execution_count": 60,
   "metadata": {
    "collapsed": true
   },
   "outputs": [],
   "source": [
    "test_re=np_utils.to_categorical(test['label'], nb_classes)"
   ]
  },
  {
   "cell_type": "code",
   "execution_count": 86,
   "metadata": {},
   "outputs": [
    {
     "name": "stdout",
     "output_type": "stream",
     "text": [
      "0.0\n"
     ]
    }
   ],
   "source": [
    "\n"
   ]
  },
  {
   "cell_type": "code",
   "execution_count": 92,
   "metadata": {},
   "outputs": [],
   "source": []
  },
  {
   "cell_type": "code",
   "execution_count": 96,
   "metadata": {},
   "outputs": [
    {
     "name": "stdout",
     "output_type": "stream",
     "text": [
      "Correct: 4992\n",
      "Wrong: 8\n",
      "Acc: 0.9984\n"
     ]
    }
   ],
   "source": [
    "correct=0\n",
    "wrong=0\n",
    "for i in range(pre.shape[0]):\n",
    "    if not np.all(pre[i][0]==test_in[i][0]):\n",
    "        correct+=1\n",
    "    else:\n",
    "        wrong+=1\n",
    "print(\"Correct:\",correct)\n",
    "print(\"Wrong:\",wrong)\n",
    "print(\"Acc:\",float(correct/(correct+wrong)))"
   ]
  },
  {
   "cell_type": "code",
   "execution_count": null,
   "metadata": {
    "collapsed": true
   },
   "outputs": [],
   "source": []
  },
  {
   "cell_type": "code",
   "execution_count": null,
   "metadata": {
    "collapsed": true
   },
   "outputs": [],
   "source": []
  }
 ],
 "metadata": {
  "kernelspec": {
   "display_name": "Python 3",
   "language": "python",
   "name": "python3"
  },
  "language_info": {
   "codemirror_mode": {
    "name": "ipython",
    "version": 3
   },
   "file_extension": ".py",
   "mimetype": "text/x-python",
   "name": "python",
   "nbconvert_exporter": "python",
   "pygments_lexer": "ipython3",
   "version": "3.6.3"
  }
 },
 "nbformat": 4,
 "nbformat_minor": 2
}

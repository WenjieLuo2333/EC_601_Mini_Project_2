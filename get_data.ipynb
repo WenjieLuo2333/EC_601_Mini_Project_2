{
 "cells": [
  {
   "cell_type": "code",
   "execution_count": 1,
   "metadata": {},
   "outputs": [
    {
     "name": "stdout",
     "output_type": "stream",
     "text": [
      "/home/wenjie/Desktop/601_mini_Project_2/cat_dog\n",
      "/home/wenjie/Desktop/601_mini_Project_2/cat_dog/train\n"
     ]
    }
   ],
   "source": [
    "import os,sys\n",
    "import pandas as pd\n",
    "old_dir=os.getcwd()\n",
    "cur_dir=os.getcwd()\n",
    "print(cur_dir)\n",
    "try:\n",
    "    os.chdir('./train')\n",
    "except:\n",
    "    if os.getcwd()[-5:] == 'train':\n",
    "        print(\"Already in\")\n",
    "    else:\n",
    "        print(\"No such dir\")\n",
    "print(os.getcwd())\n",
    "lis=os.listdir()"
   ]
  },
  {
   "cell_type": "code",
   "execution_count": 2,
   "metadata": {
    "collapsed": true
   },
   "outputs": [],
   "source": [
    "def getlabel(str):\n",
    "    if str == 'cat':\n",
    "        return 1\n",
    "    if str == 'dog':\n",
    "        return 0"
   ]
  },
  {
   "cell_type": "code",
   "execution_count": 3,
   "metadata": {
    "collapsed": true
   },
   "outputs": [],
   "source": [
    "label=[]\n",
    "image=[]\n",
    "for i in lis:\n",
    "    label.append(getlabel(i[0:3]))\n",
    "    image.append(i)\n",
    "dataframe = pd.DataFrame({'images':image,'label':label})\n",
    "dataframe.to_csv(old_dir+\"/image_all.csv\",index=False,sep=',')"
   ]
  },
  {
   "cell_type": "code",
   "execution_count": 4,
   "metadata": {},
   "outputs": [],
   "source": [
    "dataframe = pd.DataFrame({'images':image[0:8000],'label':label[0:8000]})\n",
    "dataframe.to_csv(old_dir+\"/train.csv\",index=False,sep=',')"
   ]
  },
  {
   "cell_type": "code",
   "execution_count": 5,
   "metadata": {},
   "outputs": [
    {
     "name": "stdout",
     "output_type": "stream",
     "text": [
      "(8000, 2)\n"
     ]
    }
   ],
   "source": [
    "print(dataframe.shape)"
   ]
  },
  {
   "cell_type": "code",
   "execution_count": 6,
   "metadata": {},
   "outputs": [],
   "source": [
    "dataframe = pd.DataFrame({'images':image[8000:10000],'label':label[8000:10000]})\n",
    "dataframe.to_csv(old_dir+\"/val.csv\",index=False,sep=',')"
   ]
  },
  {
   "cell_type": "code",
   "execution_count": 7,
   "metadata": {},
   "outputs": [],
   "source": [
    "dataframe = pd.DataFrame({'images':image[10000:18000],'label':label[10000:18000]})\n",
    "dataframe.to_csv(old_dir+\"/test.csv\",index=False,sep=',')"
   ]
  },
  {
   "cell_type": "code",
   "execution_count": null,
   "metadata": {
    "collapsed": true
   },
   "outputs": [],
   "source": []
  },
  {
   "cell_type": "code",
   "execution_count": null,
   "metadata": {
    "collapsed": true
   },
   "outputs": [],
   "source": []
  }
 ],
 "metadata": {
  "kernelspec": {
   "display_name": "Python 3",
   "language": "python",
   "name": "python3"
  },
  "language_info": {
   "codemirror_mode": {
    "name": "ipython",
    "version": 3
   },
   "file_extension": ".py",
   "mimetype": "text/x-python",
   "name": "python",
   "nbconvert_exporter": "python",
   "pygments_lexer": "ipython3",
   "version": "3.6.3"
  }
 },
 "nbformat": 4,
 "nbformat_minor": 2
}
